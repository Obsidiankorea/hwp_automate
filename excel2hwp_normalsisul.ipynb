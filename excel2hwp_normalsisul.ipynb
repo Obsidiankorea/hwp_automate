{
 "cells": [
  {
   "cell_type": "code",
   "execution_count": null,
   "metadata": {},
   "outputs": [],
   "source": [
    "import win32com.client as win32\n",
    "import pandas as pd\n",
    "from collections import defaultdict"
   ]
  },
  {
   "cell_type": "code",
   "execution_count": 59,
   "metadata": {},
   "outputs": [],
   "source": [
    "# 한글시작\n",
    "\n",
    "def init_hwp():\n",
    "    hwp = win32.gencache.EnsureDispatch(\"hwpframe.hwpobject\")\n",
    "    hwp.XHwpWindows.Item(0).Visible = True\n",
    "    hwp.RegisterModule(\"FilePathCheckDLL\", \"FilePathCheckerModule\")\n",
    "    return hwp"
   ]
  },
  {
   "cell_type": "code",
   "execution_count": null,
   "metadata": {},
   "outputs": [],
   "source": [
    "def append_hwp(filename):\n",
    "    \"\"\"\n",
    "    문서 끼워넣기\n",
    "    \"\"\"\n",
    "    hwp.HAction.GetDefault(\"InsertFile\", hwp.HParameterSet.HInsertFile.HSet)\n",
    "    hwp.HParameterSet.HInsertFile.KeepSection = 0\n",
    "    hwp.HParameterSet.HInsertFile.KeepCharshape = 0\n",
    "    hwp.HParameterSet.HInsertFile.KeepParashape = 0\n",
    "    hwp.HParameterSet.HInsertFile.KeepStyle = 0\n",
    "    hwp.HParameterSet.HInsertFile.filename = filename\n",
    "    hwp.HAction.Execute(\"InsertFile\", hwp.HParameterSet.HInsertFile.HSet)"
   ]
  },
  {
   "cell_type": "code",
   "execution_count": null,
   "metadata": {},
   "outputs": [],
   "source": [
    "def add_table(hwp, rows, cols, row_height=0, col_width=0):\n",
    "    \"\"\"\n",
    "    HWP 문서에 테이블을 생성하는 함수\n",
    "\n",
    "    Parameters:\n",
    "        hwp (object): HWP COM 객체\n",
    "        rows (int): 테이블의 행 개수\n",
    "        cols (int): 테이블의 열 개수\n",
    "        row_height (float, optional): 행 높이 (기본값: 0)\n",
    "        col_width (float, optional): 열 너비 (기본값: 0)\n",
    "\n",
    "    Returns:\n",
    "        bool: 테이블 생성 성공 여부\n",
    "    \"\"\"\n",
    "    try:\n",
    "        # 기본 동작 설정\n",
    "        hwp.HAction.GetDefault(\"TableCreate\", hwp.HParameterSet.HTableCreation.HSet)\n",
    "        htable = hwp.HParameterSet.HTableCreation\n",
    "\n",
    "        # 행과 열 설정\n",
    "        htable.Rows = rows\n",
    "        htable.Cols = cols\n",
    "\n",
    "        # 열 너비 설정\n",
    "        if col_width == 0:\n",
    "            htable.WidthType = 1  # 열 너비 자동\n",
    "        else:\n",
    "            htable.WidthType = 2  # 열 너비 사용자 정의\n",
    "            htable.CreateItemArray(\"ColWidth\", cols)\n",
    "            for i in range(cols):\n",
    "                htable.ColWidth.SetItem(i, hwp.MiliToHwpUnit(col_width))\n",
    "\n",
    "        # 행 높이 설정\n",
    "        if row_height == 0:\n",
    "            htable.HeightType = 0  # 행 높이 자동\n",
    "        else:\n",
    "            htable.HeightType = 1  # 행 높이 사용자 정의\n",
    "            htable.CreateItemArray(\"RowHeight\", rows)\n",
    "            for i in range(rows):\n",
    "                htable.RowHeight.SetItem(i, hwp.MiliToHwpUnit(row_height))\n",
    "\n",
    "        # 기타 테이블 속성 설정\n",
    "        htable.TableProperties.TreatAsChar = 1\n",
    "        htable.TableProperties.HorzOffset = hwp.MiliToHwpUnit(0)\n",
    "        htable.TableProperties.VertOffset = hwp.MiliToHwpUnit(0)\n",
    "        htable.TableTemplate.CreateMode = 0\n",
    "        htable.TableProperties.Width = 53294\n",
    "\n",
    "        # 테이블 생성 실행\n",
    "        hwp.HAction.Execute(\"TableCreate\", hwp.HParameterSet.HTableCreation.HSet)\n",
    "\n",
    "        return True  # 성공\n",
    "    except Exception as e:\n",
    "        print(f\"테이블 생성 중 오류 발생: {e}\")\n",
    "        return False  # 실패\n"
   ]
  },
  {
   "cell_type": "code",
   "execution_count": null,
   "metadata": {},
   "outputs": [],
   "source": [
    "df = pd.read_excel(r\"C:\\Users\\ibaca\\OneDrive\\바탕 화면\\실명서 상세3.xlsx\")"
   ]
  },
  {
   "cell_type": "markdown",
   "metadata": {},
   "source": []
  },
  {
   "cell_type": "code",
   "execution_count": null,
   "metadata": {},
   "outputs": [],
   "source": [
    "시군명 = df.iloc[3,9][3:5]  #원본 데이터에서 시군명 자료만 떼옴"
   ]
  },
  {
   "cell_type": "code",
   "execution_count": null,
   "metadata": {},
   "outputs": [],
   "source": [
    "\n",
    "# First column selection by index\n",
    "first_column = df.iloc[:, 0]\n",
    "reverse_index = first_column[::-1].eq(1).idxmax()\n",
    "header_index = reverse_index - 2"
   ]
  },
  {
   "cell_type": "code",
   "execution_count": null,
   "metadata": {},
   "outputs": [],
   "source": [
    "\n",
    "# First column selection by index\n",
    "first_column = df.iloc[:, 0]\n",
    "reverse_index = first_column[::-1].eq(1).idxmax()\n",
    "reverse_index\n",
    "if df.iloc[reverse_index, 0] != 1:\n",
    "    raise ValueError(\"Value 1 not found in the first column.\")\n",
    "header_index = reverse_index - 2\n",
    "df.columns = df.iloc[header_index]\n",
    "df = df[reverse_index:]"
   ]
  },
  {
   "cell_type": "code",
   "execution_count": null,
   "metadata": {},
   "outputs": [],
   "source": [
    "df[\"소재지\"] = 시군명\n",
    "df = df.reset_index(drop = True)"
   ]
  },
  {
   "cell_type": "code",
   "execution_count": null,
   "metadata": {},
   "outputs": [],
   "source": [
    "pivot = pd.pivot_table(\n",
    "    df,\n",
    "    values='지적사항',\n",
    "    index='시설명',\n",
    "    columns='조치구분',\n",
    "    aggfunc='count',\n",
    "    fill_value=0  # 기본값 0\n",
    ")\n",
    "\n",
    "# 조치구분의 모든 종류 정의\n",
    "all_columns = [\"시정요구\", \"개선권고\", \"현지시정\", \"주의관찰\"]\n",
    "\n",
    "# 모든 조치구분 항목 포함 (없으면 0 추가)\n",
    "for col in all_columns:\n",
    "    if col not in pivot.columns:\n",
    "        pivot[col] = 0\n",
    "\n",
    "# 열 순서 정렬\n",
    "pivot = pivot[all_columns]"
   ]
  },
  {
   "cell_type": "code",
   "execution_count": 51,
   "metadata": {},
   "outputs": [],
   "source": [
    "# 세부지적사항을 테이블과 합침\n",
    "세부지적사항 = df.groupby('시설명')['지적사항'].apply(lambda x: '\\n'.join([f'· {item}' for item in x]))\n",
    "pivot['세부지적사항'] = 세부지적사항\n"
   ]
  },
  {
   "cell_type": "code",
   "execution_count": 56,
   "metadata": {},
   "outputs": [],
   "source": [
    "hwp = init_hwp()"
   ]
  },
  {
   "cell_type": "code",
   "execution_count": 77,
   "metadata": {},
   "outputs": [
    {
     "ename": "FileNotFoundError",
     "evalue": "[Errno 2] No such file or directory: 'C:\\\\Users\\\\ibaca\\\\AppData\\\\Local\\\\Temp\\\\gen_py\\\\3.12\\\\7D2B6F3C-1D95-4E0C-BF5A-5EE564186FBCx0x1x0\\\\HSecDef.py.11904.temp'",
     "output_type": "error",
     "traceback": [
      "\u001b[1;31m---------------------------------------------------------------------------\u001b[0m",
      "\u001b[1;31mModuleNotFoundError\u001b[0m                       Traceback (most recent call last)",
      "File \u001b[1;32mc:\\Users\\ibaca\\AppData\\Local\\Programs\\Python\\Python312\\Lib\\site-packages\\win32com\\client\\gencache.py:261\u001b[0m, in \u001b[0;36mGetModuleForCLSID\u001b[1;34m(clsid)\u001b[0m\n\u001b[0;32m    260\u001b[0m \u001b[38;5;28;01mtry\u001b[39;00m:\n\u001b[1;32m--> 261\u001b[0m     \u001b[38;5;28;43m__import__\u001b[39;49m\u001b[43m(\u001b[49m\u001b[43msub_mod_name\u001b[49m\u001b[43m)\u001b[49m\n\u001b[0;32m    262\u001b[0m \u001b[38;5;28;01mexcept\u001b[39;00m \u001b[38;5;167;01mImportError\u001b[39;00m:\n",
      "\u001b[1;31mModuleNotFoundError\u001b[0m: No module named 'win32com.gen_py.7D2B6F3C-1D95-4E0C-BF5A-5EE564186FBCx0x1x0.HSecDef'",
      "\nDuring handling of the above exception, another exception occurred:\n",
      "\u001b[1;31mFileNotFoundError\u001b[0m                         Traceback (most recent call last)",
      "Cell \u001b[1;32mIn[77], line 1\u001b[0m\n\u001b[1;32m----> 1\u001b[0m \u001b[43mHwp\u001b[49m\u001b[38;5;241;43m.\u001b[39;49m\u001b[43mtable_from_data\u001b[49m\u001b[43m(\u001b[49m\u001b[43mpivot\u001b[49m\u001b[43m,\u001b[49m\u001b[43m \u001b[49m\u001b[43mheader\u001b[49m\u001b[38;5;241;43m=\u001b[39;49m\u001b[38;5;28;43;01mTrue\u001b[39;49;00m\u001b[43m,\u001b[49m\u001b[43m \u001b[49m\u001b[43mtreat_as_char\u001b[49m\u001b[38;5;241;43m=\u001b[39;49m\u001b[38;5;28;43;01mTrue\u001b[39;49;00m\u001b[43m)\u001b[49m\n",
      "File \u001b[1;32mc:\\Users\\ibaca\\AppData\\Local\\Programs\\Python\\Python312\\Lib\\site-packages\\pyhwpx.py:2928\u001b[0m, in \u001b[0;36mHwp.table_from_data\u001b[1;34m(self, data, transpose, header0, treat_as_char, header, index, cell_fill, header_bold)\u001b[0m\n\u001b[0;32m   2926\u001b[0m \u001b[38;5;28;01mif\u001b[39;00m index:\n\u001b[0;32m   2927\u001b[0m     idx_list \u001b[38;5;241m=\u001b[39m \u001b[38;5;28mlist\u001b[39m(df\u001b[38;5;241m.\u001b[39mindex)\n\u001b[1;32m-> 2928\u001b[0m     \u001b[38;5;28;43mself\u001b[39;49m\u001b[38;5;241;43m.\u001b[39;49m\u001b[43mcreate_table\u001b[49m\u001b[43m(\u001b[49m\u001b[43mrows\u001b[49m\u001b[38;5;241;43m=\u001b[39;49m\u001b[38;5;28;43mlen\u001b[39;49m\u001b[43m(\u001b[49m\u001b[43mdf\u001b[49m\u001b[43m)\u001b[49m\u001b[43m \u001b[49m\u001b[38;5;241;43m+\u001b[39;49m\u001b[43m \u001b[49m\u001b[38;5;241;43m1\u001b[39;49m\u001b[43m,\u001b[49m\u001b[43m \u001b[49m\u001b[43mcols\u001b[49m\u001b[38;5;241;43m=\u001b[39;49m\u001b[38;5;28;43mlen\u001b[39;49m\u001b[43m(\u001b[49m\u001b[43mdf\u001b[49m\u001b[38;5;241;43m.\u001b[39;49m\u001b[43mcolumns\u001b[49m\u001b[43m)\u001b[49m\u001b[43m \u001b[49m\u001b[38;5;241;43m+\u001b[39;49m\u001b[43m \u001b[49m\u001b[38;5;241;43m1\u001b[39;49m\u001b[43m,\u001b[49m\u001b[43m \u001b[49m\u001b[43mtreat_as_char\u001b[49m\u001b[38;5;241;43m=\u001b[39;49m\u001b[43mtreat_as_char\u001b[49m\u001b[43m,\u001b[49m\u001b[43m \u001b[49m\u001b[43mheader\u001b[49m\u001b[38;5;241;43m=\u001b[39;49m\u001b[43mheader\u001b[49m\u001b[43m)\u001b[49m\n\u001b[0;32m   2929\u001b[0m     \u001b[38;5;28mself\u001b[39m\u001b[38;5;241m.\u001b[39minsert_text(header0)\n\u001b[0;32m   2930\u001b[0m     \u001b[38;5;28mself\u001b[39m\u001b[38;5;241m.\u001b[39mTableRightCellAppend()\n",
      "File \u001b[1;32mc:\\Users\\ibaca\\AppData\\Local\\Programs\\Python\\Python312\\Lib\\site-packages\\pyhwpx.py:3451\u001b[0m, in \u001b[0;36mHwp.create_table\u001b[1;34m(self, rows, cols, treat_as_char, width_type, height_type, header, height)\u001b[0m\n\u001b[0;32m   3448\u001b[0m pset\u001b[38;5;241m.\u001b[39mWidthType \u001b[38;5;241m=\u001b[39m width_type  \u001b[38;5;66;03m# 너비 지정(0:단에맞춤, 1:문단에맞춤, 2:임의값)\u001b[39;00m\n\u001b[0;32m   3449\u001b[0m pset\u001b[38;5;241m.\u001b[39mHeightType \u001b[38;5;241m=\u001b[39m height_type  \u001b[38;5;66;03m# 높이 지정(0:자동, 1:임의값)\u001b[39;00m\n\u001b[1;32m-> 3451\u001b[0m sec_def \u001b[38;5;241m=\u001b[39m \u001b[38;5;28;43mself\u001b[39;49m\u001b[38;5;241;43m.\u001b[39;49m\u001b[43mhwp\u001b[49m\u001b[38;5;241;43m.\u001b[39;49m\u001b[43mHParameterSet\u001b[49m\u001b[38;5;241;43m.\u001b[39;49m\u001b[43mHSecDef\u001b[49m\n\u001b[0;32m   3452\u001b[0m \u001b[38;5;28mself\u001b[39m\u001b[38;5;241m.\u001b[39mhwp\u001b[38;5;241m.\u001b[39mHAction\u001b[38;5;241m.\u001b[39mGetDefault(\u001b[38;5;124m\"\u001b[39m\u001b[38;5;124mPageSetup\u001b[39m\u001b[38;5;124m\"\u001b[39m, sec_def\u001b[38;5;241m.\u001b[39mHSet)\n\u001b[0;32m   3453\u001b[0m total_width \u001b[38;5;241m=\u001b[39m (\n\u001b[0;32m   3454\u001b[0m         sec_def\u001b[38;5;241m.\u001b[39mPageDef\u001b[38;5;241m.\u001b[39mPaperWidth \u001b[38;5;241m-\u001b[39m sec_def\u001b[38;5;241m.\u001b[39mPageDef\u001b[38;5;241m.\u001b[39mLeftMargin \u001b[38;5;241m-\u001b[39m sec_def\u001b[38;5;241m.\u001b[39mPageDef\u001b[38;5;241m.\u001b[39mRightMargin \u001b[38;5;241m-\u001b[39m sec_def\u001b[38;5;241m.\u001b[39mPageDef\u001b[38;5;241m.\u001b[39mGutterLen \u001b[38;5;241m-\u001b[39m \u001b[38;5;28mself\u001b[39m\u001b[38;5;241m.\u001b[39mmili_to_hwp_unit(\n\u001b[0;32m   3455\u001b[0m     \u001b[38;5;241m2\u001b[39m))\n",
      "File \u001b[1;32mc:\\Users\\ibaca\\AppData\\Local\\Programs\\Python\\Python312\\Lib\\site-packages\\win32com\\client\\__init__.py:558\u001b[0m, in \u001b[0;36mDispatchBaseClass.__getattr__\u001b[1;34m(self, attr)\u001b[0m\n\u001b[0;32m    556\u001b[0m \u001b[38;5;28;01mif\u001b[39;00m args \u001b[38;5;129;01mis\u001b[39;00m \u001b[38;5;28;01mNone\u001b[39;00m:\n\u001b[0;32m    557\u001b[0m     \u001b[38;5;28;01mraise\u001b[39;00m \u001b[38;5;167;01mAttributeError\u001b[39;00m(\u001b[38;5;124mf\u001b[39m\u001b[38;5;124m\"\u001b[39m\u001b[38;5;124m'\u001b[39m\u001b[38;5;132;01m{\u001b[39;00m\u001b[38;5;28mrepr\u001b[39m(\u001b[38;5;28mself\u001b[39m)\u001b[38;5;132;01m}\u001b[39;00m\u001b[38;5;124m'\u001b[39m\u001b[38;5;124m object has no attribute \u001b[39m\u001b[38;5;124m'\u001b[39m\u001b[38;5;132;01m{\u001b[39;00mattr\u001b[38;5;132;01m}\u001b[39;00m\u001b[38;5;124m'\u001b[39m\u001b[38;5;124m\"\u001b[39m)\n\u001b[1;32m--> 558\u001b[0m \u001b[38;5;28;01mreturn\u001b[39;00m \u001b[38;5;28;43mself\u001b[39;49m\u001b[38;5;241;43m.\u001b[39;49m\u001b[43m_ApplyTypes_\u001b[49m\u001b[43m(\u001b[49m\u001b[38;5;241;43m*\u001b[39;49m\u001b[43margs\u001b[49m\u001b[43m)\u001b[49m\n",
      "File \u001b[1;32mc:\\Users\\ibaca\\AppData\\Local\\Programs\\Python\\Python312\\Lib\\site-packages\\win32com\\client\\__init__.py:548\u001b[0m, in \u001b[0;36mDispatchBaseClass._ApplyTypes_\u001b[1;34m(self, dispid, wFlags, retType, argTypes, user, resultCLSID, *args)\u001b[0m\n\u001b[0;32m    547\u001b[0m \u001b[38;5;28;01mdef\u001b[39;00m \u001b[38;5;21m_ApplyTypes_\u001b[39m(\u001b[38;5;28mself\u001b[39m, dispid, wFlags, retType, argTypes, user, resultCLSID, \u001b[38;5;241m*\u001b[39margs):\n\u001b[1;32m--> 548\u001b[0m     \u001b[38;5;28;01mreturn\u001b[39;00m \u001b[38;5;28;43mself\u001b[39;49m\u001b[38;5;241;43m.\u001b[39;49m\u001b[43m_get_good_object_\u001b[49m\u001b[43m(\u001b[49m\n\u001b[0;32m    549\u001b[0m \u001b[43m        \u001b[49m\u001b[38;5;28;43mself\u001b[39;49m\u001b[38;5;241;43m.\u001b[39;49m\u001b[43m_oleobj_\u001b[49m\u001b[38;5;241;43m.\u001b[39;49m\u001b[43mInvokeTypes\u001b[49m\u001b[43m(\u001b[49m\u001b[43mdispid\u001b[49m\u001b[43m,\u001b[49m\u001b[43m \u001b[49m\u001b[38;5;241;43m0\u001b[39;49m\u001b[43m,\u001b[49m\u001b[43m \u001b[49m\u001b[43mwFlags\u001b[49m\u001b[43m,\u001b[49m\u001b[43m \u001b[49m\u001b[43mretType\u001b[49m\u001b[43m,\u001b[49m\u001b[43m \u001b[49m\u001b[43margTypes\u001b[49m\u001b[43m,\u001b[49m\u001b[43m \u001b[49m\u001b[38;5;241;43m*\u001b[39;49m\u001b[43margs\u001b[49m\u001b[43m)\u001b[49m\u001b[43m,\u001b[49m\n\u001b[0;32m    550\u001b[0m \u001b[43m        \u001b[49m\u001b[43muser\u001b[49m\u001b[43m,\u001b[49m\n\u001b[0;32m    551\u001b[0m \u001b[43m        \u001b[49m\u001b[43mresultCLSID\u001b[49m\u001b[43m,\u001b[49m\n\u001b[0;32m    552\u001b[0m \u001b[43m    \u001b[49m\u001b[43m)\u001b[49m\n",
      "File \u001b[1;32mc:\\Users\\ibaca\\AppData\\Local\\Programs\\Python\\Python312\\Lib\\site-packages\\win32com\\client\\__init__.py:574\u001b[0m, in \u001b[0;36mDispatchBaseClass._get_good_object_\u001b[1;34m(self, obj, obUserName, resultCLSID)\u001b[0m\n\u001b[0;32m    573\u001b[0m \u001b[38;5;28;01mdef\u001b[39;00m \u001b[38;5;21m_get_good_object_\u001b[39m(\u001b[38;5;28mself\u001b[39m, obj, obUserName\u001b[38;5;241m=\u001b[39m\u001b[38;5;28;01mNone\u001b[39;00m, resultCLSID\u001b[38;5;241m=\u001b[39m\u001b[38;5;28;01mNone\u001b[39;00m):\n\u001b[1;32m--> 574\u001b[0m     \u001b[38;5;28;01mreturn\u001b[39;00m \u001b[43m_get_good_object_\u001b[49m\u001b[43m(\u001b[49m\u001b[43mobj\u001b[49m\u001b[43m,\u001b[49m\u001b[43m \u001b[49m\u001b[43mobUserName\u001b[49m\u001b[43m,\u001b[49m\u001b[43m \u001b[49m\u001b[43mresultCLSID\u001b[49m\u001b[43m)\u001b[49m\n",
      "File \u001b[1;32mc:\\Users\\ibaca\\AppData\\Local\\Programs\\Python\\Python312\\Lib\\site-packages\\win32com\\client\\__init__.py:592\u001b[0m, in \u001b[0;36m_get_good_object_\u001b[1;34m(obj, obUserName, resultCLSID)\u001b[0m\n\u001b[0;32m    590\u001b[0m     \u001b[38;5;28;01mreturn\u001b[39;00m \u001b[38;5;28mtuple\u001b[39m(\u001b[38;5;28mmap\u001b[39m(_get_good_object_, obj, obUserNameTuple, resultCLSIDTuple))\n\u001b[0;32m    591\u001b[0m \u001b[38;5;28;01melse\u001b[39;00m:\n\u001b[1;32m--> 592\u001b[0m     \u001b[38;5;28;01mreturn\u001b[39;00m \u001b[43m_get_good_single_object_\u001b[49m\u001b[43m(\u001b[49m\u001b[43mobj\u001b[49m\u001b[43m,\u001b[49m\u001b[43m \u001b[49m\u001b[43mobUserName\u001b[49m\u001b[43m,\u001b[49m\u001b[43m \u001b[49m\u001b[43mresultCLSID\u001b[49m\u001b[43m)\u001b[49m\n",
      "File \u001b[1;32mc:\\Users\\ibaca\\AppData\\Local\\Programs\\Python\\Python312\\Lib\\site-packages\\win32com\\client\\__init__.py:580\u001b[0m, in \u001b[0;36m_get_good_single_object_\u001b[1;34m(obj, obUserName, resultCLSID)\u001b[0m\n\u001b[0;32m    578\u001b[0m \u001b[38;5;28;01mdef\u001b[39;00m \u001b[38;5;21m_get_good_single_object_\u001b[39m(obj, obUserName\u001b[38;5;241m=\u001b[39m\u001b[38;5;28;01mNone\u001b[39;00m, resultCLSID\u001b[38;5;241m=\u001b[39m\u001b[38;5;28;01mNone\u001b[39;00m):\n\u001b[0;32m    579\u001b[0m     \u001b[38;5;28;01mif\u001b[39;00m \u001b[38;5;28misinstance\u001b[39m(obj, _PyIDispatchType):\n\u001b[1;32m--> 580\u001b[0m         \u001b[38;5;28;01mreturn\u001b[39;00m \u001b[43mDispatch\u001b[49m\u001b[43m(\u001b[49m\u001b[43mobj\u001b[49m\u001b[43m,\u001b[49m\u001b[43m \u001b[49m\u001b[43mobUserName\u001b[49m\u001b[43m,\u001b[49m\u001b[43m \u001b[49m\u001b[43mresultCLSID\u001b[49m\u001b[43m)\u001b[49m\n\u001b[0;32m    581\u001b[0m     \u001b[38;5;28;01mreturn\u001b[39;00m obj\n",
      "File \u001b[1;32mc:\\Users\\ibaca\\AppData\\Local\\Programs\\Python\\Python312\\Lib\\site-packages\\win32com\\client\\__init__.py:115\u001b[0m, in \u001b[0;36mDispatch\u001b[1;34m(dispatch, userName, resultCLSID, typeinfo, clsctx)\u001b[0m\n\u001b[0;32m    113\u001b[0m \u001b[38;5;250m\u001b[39m\u001b[38;5;124;03m\"\"\"Creates a Dispatch based COM object.\"\"\"\u001b[39;00m\n\u001b[0;32m    114\u001b[0m dispatch, userName \u001b[38;5;241m=\u001b[39m dynamic\u001b[38;5;241m.\u001b[39m_GetGoodDispatchAndUserName(dispatch, userName, clsctx)\n\u001b[1;32m--> 115\u001b[0m \u001b[38;5;28;01mreturn\u001b[39;00m \u001b[43m__WrapDispatch\u001b[49m\u001b[43m(\u001b[49m\u001b[43mdispatch\u001b[49m\u001b[43m,\u001b[49m\u001b[43m \u001b[49m\u001b[43muserName\u001b[49m\u001b[43m,\u001b[49m\u001b[43m \u001b[49m\u001b[43mresultCLSID\u001b[49m\u001b[43m,\u001b[49m\u001b[43m \u001b[49m\u001b[43mtypeinfo\u001b[49m\u001b[43m,\u001b[49m\u001b[43m \u001b[49m\u001b[43mclsctx\u001b[49m\u001b[38;5;241;43m=\u001b[39;49m\u001b[43mclsctx\u001b[49m\u001b[43m)\u001b[49m\n",
      "File \u001b[1;32mc:\\Users\\ibaca\\AppData\\Local\\Programs\\Python\\Python312\\Lib\\site-packages\\win32com\\client\\__init__.py:45\u001b[0m, in \u001b[0;36m__WrapDispatch\u001b[1;34m(dispatch, userName, resultCLSID, typeinfo, clsctx, WrapperClass)\u001b[0m\n\u001b[0;32m     41\u001b[0m \u001b[38;5;28;01mfrom\u001b[39;00m \u001b[38;5;21;01m.\u001b[39;00m \u001b[38;5;28;01mimport\u001b[39;00m gencache\n\u001b[0;32m     43\u001b[0m \u001b[38;5;66;03m# Attempt to load generated module support\u001b[39;00m\n\u001b[0;32m     44\u001b[0m \u001b[38;5;66;03m# This may load the module, and make it available\u001b[39;00m\n\u001b[1;32m---> 45\u001b[0m klass \u001b[38;5;241m=\u001b[39m \u001b[43mgencache\u001b[49m\u001b[38;5;241;43m.\u001b[39;49m\u001b[43mGetClassForCLSID\u001b[49m\u001b[43m(\u001b[49m\u001b[43mresultCLSID\u001b[49m\u001b[43m)\u001b[49m\n\u001b[0;32m     46\u001b[0m \u001b[38;5;28;01mif\u001b[39;00m klass \u001b[38;5;129;01mis\u001b[39;00m \u001b[38;5;129;01mnot\u001b[39;00m \u001b[38;5;28;01mNone\u001b[39;00m:\n\u001b[0;32m     47\u001b[0m     \u001b[38;5;28;01mreturn\u001b[39;00m klass(dispatch)\n",
      "File \u001b[1;32mc:\\Users\\ibaca\\AppData\\Local\\Programs\\Python\\Python312\\Lib\\site-packages\\win32com\\client\\gencache.py:206\u001b[0m, in \u001b[0;36mGetClassForCLSID\u001b[1;34m(clsid)\u001b[0m\n\u001b[0;32m    204\u001b[0m \u001b[38;5;28;01mif\u001b[39;00m CLSIDToClass\u001b[38;5;241m.\u001b[39mHasClass(clsid):\n\u001b[0;32m    205\u001b[0m     \u001b[38;5;28;01mreturn\u001b[39;00m CLSIDToClass\u001b[38;5;241m.\u001b[39mGetClass(clsid)\n\u001b[1;32m--> 206\u001b[0m mod \u001b[38;5;241m=\u001b[39m \u001b[43mGetModuleForCLSID\u001b[49m\u001b[43m(\u001b[49m\u001b[43mclsid\u001b[49m\u001b[43m)\u001b[49m\n\u001b[0;32m    207\u001b[0m \u001b[38;5;28;01mif\u001b[39;00m mod \u001b[38;5;129;01mis\u001b[39;00m \u001b[38;5;28;01mNone\u001b[39;00m:\n\u001b[0;32m    208\u001b[0m     \u001b[38;5;28;01mreturn\u001b[39;00m \u001b[38;5;28;01mNone\u001b[39;00m\n",
      "File \u001b[1;32mc:\\Users\\ibaca\\AppData\\Local\\Programs\\Python\\Python312\\Lib\\site-packages\\win32com\\client\\gencache.py:270\u001b[0m, in \u001b[0;36mGetModuleForCLSID\u001b[1;34m(clsid)\u001b[0m\n\u001b[0;32m    267\u001b[0m         info \u001b[38;5;241m=\u001b[39m demandGeneratedTypeLibraries[info]\n\u001b[0;32m    268\u001b[0m     \u001b[38;5;28;01mfrom\u001b[39;00m \u001b[38;5;21;01m.\u001b[39;00m \u001b[38;5;28;01mimport\u001b[39;00m makepy\n\u001b[1;32m--> 270\u001b[0m     \u001b[43mmakepy\u001b[49m\u001b[38;5;241;43m.\u001b[39;49m\u001b[43mGenerateChildFromTypeLibSpec\u001b[49m\u001b[43m(\u001b[49m\u001b[43msub_mod\u001b[49m\u001b[43m,\u001b[49m\u001b[43m \u001b[49m\u001b[43minfo\u001b[49m\u001b[43m)\u001b[49m\n\u001b[0;32m    271\u001b[0m     \u001b[38;5;66;03m# Generate does an import...\u001b[39;00m\n\u001b[0;32m    272\u001b[0m mod \u001b[38;5;241m=\u001b[39m sys\u001b[38;5;241m.\u001b[39mmodules[sub_mod_name]\n",
      "File \u001b[1;32mc:\\Users\\ibaca\\AppData\\Local\\Programs\\Python\\Python312\\Lib\\site-packages\\win32com\\client\\makepy.py:371\u001b[0m, in \u001b[0;36mGenerateChildFromTypeLibSpec\u001b[1;34m(child, typelibInfo, verboseLevel, progressInstance)\u001b[0m\n\u001b[0;32m    368\u001b[0m progress\u001b[38;5;241m.\u001b[39mLogBeginGenerate(dir_path_name)\n\u001b[0;32m    370\u001b[0m gen \u001b[38;5;241m=\u001b[39m genpy\u001b[38;5;241m.\u001b[39mGenerator(typelib, info\u001b[38;5;241m.\u001b[39mdll, progress)\n\u001b[1;32m--> 371\u001b[0m \u001b[43mgen\u001b[49m\u001b[38;5;241;43m.\u001b[39;49m\u001b[43mgenerate_child\u001b[49m\u001b[43m(\u001b[49m\u001b[43mchild\u001b[49m\u001b[43m,\u001b[49m\u001b[43m \u001b[49m\u001b[43mdir_path_name\u001b[49m\u001b[43m)\u001b[49m\n\u001b[0;32m    372\u001b[0m progress\u001b[38;5;241m.\u001b[39mSetDescription(\u001b[38;5;124m\"\u001b[39m\u001b[38;5;124mImporting module\u001b[39m\u001b[38;5;124m\"\u001b[39m)\n\u001b[0;32m    373\u001b[0m importlib\u001b[38;5;241m.\u001b[39minvalidate_caches()\n",
      "File \u001b[1;32mc:\\Users\\ibaca\\AppData\\Local\\Programs\\Python\\Python312\\Lib\\site-packages\\win32com\\client\\genpy.py:1349\u001b[0m, in \u001b[0;36mGenerator.generate_child\u001b[1;34m(self, child, dir)\u001b[0m\n\u001b[0;32m   1347\u001b[0m out_name \u001b[38;5;241m=\u001b[39m os\u001b[38;5;241m.\u001b[39mpath\u001b[38;5;241m.\u001b[39mjoin(\u001b[38;5;28mdir\u001b[39m, an_item\u001b[38;5;241m.\u001b[39mpython_name) \u001b[38;5;241m+\u001b[39m \u001b[38;5;124m\"\u001b[39m\u001b[38;5;124m.py\u001b[39m\u001b[38;5;124m\"\u001b[39m\n\u001b[0;32m   1348\u001b[0m worked \u001b[38;5;241m=\u001b[39m \u001b[38;5;28;01mFalse\u001b[39;00m\n\u001b[1;32m-> 1349\u001b[0m \u001b[38;5;28mself\u001b[39m\u001b[38;5;241m.\u001b[39mfile \u001b[38;5;241m=\u001b[39m \u001b[38;5;28;43mself\u001b[39;49m\u001b[38;5;241;43m.\u001b[39;49m\u001b[43mopen_writer\u001b[49m\u001b[43m(\u001b[49m\u001b[43mout_name\u001b[49m\u001b[43m)\u001b[49m\n\u001b[0;32m   1350\u001b[0m \u001b[38;5;28;01mtry\u001b[39;00m:\n\u001b[0;32m   1351\u001b[0m     \u001b[38;5;28;01mif\u001b[39;00m oleitem \u001b[38;5;129;01mis\u001b[39;00m \u001b[38;5;129;01mnot\u001b[39;00m \u001b[38;5;28;01mNone\u001b[39;00m:\n",
      "File \u001b[1;32mc:\\Users\\ibaca\\AppData\\Local\\Programs\\Python\\Python312\\Lib\\site-packages\\win32com\\client\\genpy.py:1035\u001b[0m, in \u001b[0;36mGenerator.open_writer\u001b[1;34m(self, filename, encoding)\u001b[0m\n\u001b[0;32m   1025\u001b[0m \u001b[38;5;28;01mdef\u001b[39;00m \u001b[38;5;21mopen_writer\u001b[39m(\u001b[38;5;28mself\u001b[39m, filename, encoding\u001b[38;5;241m=\u001b[39m\u001b[38;5;124m\"\u001b[39m\u001b[38;5;124mutf-8\u001b[39m\u001b[38;5;124m\"\u001b[39m):\n\u001b[0;32m   1026\u001b[0m     \u001b[38;5;66;03m# A place to put code to open a file with the appropriate encoding.\u001b[39;00m\n\u001b[0;32m   1027\u001b[0m     \u001b[38;5;66;03m# Does *not* set self.file - just opens and returns a file.\u001b[39;00m\n\u001b[1;32m   (...)\u001b[0m\n\u001b[0;32m   1032\u001b[0m     \u001b[38;5;66;03m# don't step on each others' toes.\u001b[39;00m\n\u001b[0;32m   1033\u001b[0m     \u001b[38;5;66;03m# Could be a classmethod one day...\u001b[39;00m\n\u001b[0;32m   1034\u001b[0m     temp_filename \u001b[38;5;241m=\u001b[39m \u001b[38;5;28mself\u001b[39m\u001b[38;5;241m.\u001b[39mget_temp_filename(filename)\n\u001b[1;32m-> 1035\u001b[0m     \u001b[38;5;28;01mreturn\u001b[39;00m \u001b[38;5;28;43mopen\u001b[39;49m\u001b[43m(\u001b[49m\u001b[43mtemp_filename\u001b[49m\u001b[43m,\u001b[49m\u001b[43m \u001b[49m\u001b[38;5;124;43m\"\u001b[39;49m\u001b[38;5;124;43mwt\u001b[39;49m\u001b[38;5;124;43m\"\u001b[39;49m\u001b[43m,\u001b[49m\u001b[43m \u001b[49m\u001b[43mencoding\u001b[49m\u001b[38;5;241;43m=\u001b[39;49m\u001b[43mencoding\u001b[49m\u001b[43m)\u001b[49m\n",
      "\u001b[1;31mFileNotFoundError\u001b[0m: [Errno 2] No such file or directory: 'C:\\\\Users\\\\ibaca\\\\AppData\\\\Local\\\\Temp\\\\gen_py\\\\3.12\\\\7D2B6F3C-1D95-4E0C-BF5A-5EE564186FBCx0x1x0\\\\HSecDef.py.11904.temp'"
     ]
    }
   ],
   "source": [
    "Hwp.table_from_data(pivot, header=True, treat_as_char=True)"
   ]
  },
  {
   "cell_type": "code",
   "execution_count": null,
   "metadata": {},
   "outputs": [],
   "source": [
    "add_table(hwp, rows=5, cols=3, row_height=0, col_width=30)\n"
   ]
  },
  {
   "cell_type": "code",
   "execution_count": 73,
   "metadata": {},
   "outputs": [
    {
     "data": {
      "text/plain": [
       "True"
      ]
     },
     "execution_count": 73,
     "metadata": {},
     "output_type": "execute_result"
    }
   ],
   "source": [
    "filename2 = r\"C:\\d drive\\Code\\hwp_automate\\table1.templete\"\n",
    "hwp.HAction.GetDefault(\"InsertFile\", hwp.HParameterSet.HInsertFile.HSet)\n",
    "hwp.HParameterSet.HInsertFile.filename = filename2\n",
    "hwp.HAction.Execute(\"InsertFile\", hwp.HParameterSet.HInsertFile.HSet)"
   ]
  },
  {
   "cell_type": "code",
   "execution_count": null,
   "metadata": {},
   "outputs": [],
   "source": [
    "def append_hwp(filename):\n",
    "    \"\"\"\n",
    "    문서 끼워넣기\n",
    "    \"\"\"\n",
    "    hwp.HAction.GetDefault(\"InsertFile\", hwp.HParameterSet.HInsertFile.HSet)\n",
    "    hwp.HParameterSet.HInsertFile.filename = filename\n",
    "    hwp.HAction.Execute(\"InsertFile\", hwp.HParameterSet.HInsertFile.HSet)"
   ]
  },
  {
   "cell_type": "code",
   "execution_count": 72,
   "metadata": {},
   "outputs": [],
   "source": [
    "append_hwp(r\"C:\\d drive\\Code\\hwp_automate\\table1.templete\")"
   ]
  }
 ],
 "metadata": {
  "kernelspec": {
   "display_name": "Python 3",
   "language": "python",
   "name": "python3"
  },
  "language_info": {
   "codemirror_mode": {
    "name": "ipython",
    "version": 3
   },
   "file_extension": ".py",
   "mimetype": "text/x-python",
   "name": "python",
   "nbconvert_exporter": "python",
   "pygments_lexer": "ipython3",
   "version": "3.12.3"
  }
 },
 "nbformat": 4,
 "nbformat_minor": 2
}
