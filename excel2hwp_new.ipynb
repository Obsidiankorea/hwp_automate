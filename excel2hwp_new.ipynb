{
 "cells": [
  {
   "cell_type": "code",
   "execution_count": 2,
   "metadata": {},
   "outputs": [],
   "source": [
    "from pyhwpx import Hwp\n",
    "import pandas as pd"
   ]
  },
  {
   "cell_type": "code",
   "execution_count": 3,
   "metadata": {},
   "outputs": [],
   "source": [
    "df = pd.read_excel(r\"C:\\Users\\ibaca\\OneDrive\\바탕 화면\\실명서 상세3.xlsx\")"
   ]
  },
  {
   "cell_type": "code",
   "execution_count": 4,
   "metadata": {},
   "outputs": [],
   "source": [
    "시군명 = df.iloc[3,9][3:5]  #원본 데이터에서 시군명 자료만 떼옴"
   ]
  },
  {
   "cell_type": "code",
   "execution_count": 5,
   "metadata": {},
   "outputs": [],
   "source": [
    "# First column selection by index\n",
    "first_column = df.iloc[:, 0]\n",
    "reverse_index = first_column[::-1].eq(1).idxmax()\n",
    "header_index = reverse_index - 2"
   ]
  },
  {
   "cell_type": "code",
   "execution_count": 6,
   "metadata": {},
   "outputs": [],
   "source": [
    "\n",
    "# First column selection by index\n",
    "first_column = df.iloc[:, 0]\n",
    "reverse_index = first_column[::-1].eq(1).idxmax()\n",
    "reverse_index\n",
    "if df.iloc[reverse_index, 0] != 1:\n",
    "    raise ValueError(\"Value 1 not found in the first column.\")\n",
    "header_index = reverse_index - 2\n",
    "df.columns = df.iloc[header_index]\n",
    "df = df[reverse_index:]"
   ]
  },
  {
   "cell_type": "code",
   "execution_count": 7,
   "metadata": {},
   "outputs": [],
   "source": [
    "df[\"소재지\"] = 시군명\n",
    "df = df.reset_index(drop = True)"
   ]
  },
  {
   "cell_type": "code",
   "execution_count": 8,
   "metadata": {},
   "outputs": [],
   "source": [
    "pivot = pd.pivot_table(\n",
    "    df,\n",
    "    values='지적사항',\n",
    "    index='시설명',\n",
    "    columns='조치구분',\n",
    "    aggfunc='count',\n",
    "    fill_value=0  # 기본값 0\n",
    ")\n",
    "\n",
    "# 조치구분의 모든 종류 정의\n",
    "all_columns = [\"시정요구\", \"개선권고\", \"현지시정\", \"주의관찰\"]\n",
    "\n",
    "# 모든 조치구분 항목 포함 (없으면 0 추가)\n",
    "for col in all_columns:\n",
    "    if col not in pivot.columns:\n",
    "        pivot[col] = 0\n",
    "\n",
    "# 열 순서 정렬\n",
    "pivot = pivot[all_columns]"
   ]
  },
  {
   "cell_type": "code",
   "execution_count": 9,
   "metadata": {},
   "outputs": [],
   "source": [
    "# 세부지적사항을 테이블과 합침\n",
    "세부지적사항 = df.groupby('시설명')['지적사항'].apply(lambda x: '\\n'.join([f'· {item}' for item in x]))\n",
    "pivot['세부지적사항'] = 세부지적사항\n"
   ]
  },
  {
   "cell_type": "code",
   "execution_count": 11,
   "metadata": {},
   "outputs": [],
   "source": [
    "hwp = Hwp()"
   ]
  },
  {
   "cell_type": "code",
   "execution_count": 13,
   "metadata": {},
   "outputs": [],
   "source": [
    "hwp.table_from_data(pivot)"
   ]
  },
  {
   "cell_type": "code",
   "execution_count": null,
   "metadata": {},
   "outputs": [],
   "source": [
    "add_table(hwp, rows=5, cols=3, row_height=0, col_width=30)\n"
   ]
  }
 ],
 "metadata": {
  "kernelspec": {
   "display_name": "Python 3",
   "language": "python",
   "name": "python3"
  },
  "language_info": {
   "codemirror_mode": {
    "name": "ipython",
    "version": 3
   },
   "file_extension": ".py",
   "mimetype": "text/x-python",
   "name": "python",
   "nbconvert_exporter": "python",
   "pygments_lexer": "ipython3",
   "version": "3.12.3"
  }
 },
 "nbformat": 4,
 "nbformat_minor": 2
}
